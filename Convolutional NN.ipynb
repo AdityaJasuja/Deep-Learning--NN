{
 "cells": [
  {
   "cell_type": "code",
   "execution_count": 1,
   "metadata": {},
   "outputs": [],
   "source": [
    "#Importing libraries\n",
    "\n",
    "import tensorflow as tf\n",
    "from keras.preprocessing.image import ImageDataGenerator"
   ]
  },
  {
   "cell_type": "code",
   "execution_count": 2,
   "metadata": {},
   "outputs": [
    {
     "data": {
      "text/plain": [
       "'2.8.0'"
      ]
     },
     "execution_count": 2,
     "metadata": {},
     "output_type": "execute_result"
    }
   ],
   "source": [
    "tf.__version__"
   ]
  },
  {
   "cell_type": "code",
   "execution_count": 9,
   "metadata": {},
   "outputs": [
    {
     "name": "stdout",
     "output_type": "stream",
     "text": [
      "Found 8000 images belonging to 2 classes.\n"
     ]
    }
   ],
   "source": [
    "#data Preprocessing\n",
    "\n",
    "#training set\n",
    "\n",
    "train_datagen= ImageDataGenerator(\n",
    "        rescale=1./255,\n",
    "        shear_range=0.2,\n",
    "        zoom_range=0.2,\n",
    "        horizontal_flip=True)\n",
    "\n",
    "training_set= train_datagen.flow_from_directory(\n",
    "        'CNN dataset/training_set',\n",
    "        target_size=(64, 64),\n",
    "        batch_size=32,\n",
    "        class_mode='binary')"
   ]
  },
  {
   "cell_type": "code",
   "execution_count": 10,
   "metadata": {},
   "outputs": [
    {
     "name": "stdout",
     "output_type": "stream",
     "text": [
      "Found 2000 images belonging to 2 classes.\n"
     ]
    }
   ],
   "source": [
    "#test set\n",
    "\n",
    "test_datagen= ImageDataGenerator(rescale=1./255)\n",
    "\n",
    "test_set= test_datagen.flow_from_directory(\n",
    "        'CNN dataset/test_set',\n",
    "        target_size=(64, 64),\n",
    "        batch_size=32,\n",
    "        class_mode='binary')"
   ]
  },
  {
   "cell_type": "code",
   "execution_count": 12,
   "metadata": {},
   "outputs": [],
   "source": [
    "#building CNN\n",
    "\n",
    "#initializing CNN\n",
    "\n",
    "cnn= tf.keras.models.Sequential()\n",
    "\n",
    "#step 1- Convolution\n",
    "\n",
    "cnn.add(tf.keras.layers.Conv2D(filters=32, kernel_size=3, activation='relu', input_shape=[64, 64, 3]))\n",
    "\n",
    "#step 2- Pooling\n",
    "\n",
    "cnn.add(tf.keras.layers.MaxPool2D(pool_size=2, strides=2))\n",
    "\n",
    "#adding a second convolutional layer\n",
    "\n",
    "cnn.add(tf.keras.layers.Conv2D(filters=32, kernel_size=3, activation='relu'))\n",
    "cnn.add(tf.keras.layers.MaxPool2D(pool_size=2, strides=2))\n",
    "\n",
    "#step 3- Flattening\n",
    "\n",
    "cnn.add(tf.keras.layers.Flatten())\n",
    "\n",
    "#step 4- Full Connection\n",
    "\n",
    "cnn.add(tf.keras.layers.Dense(units=128, activation='relu'))\n",
    "\n",
    "#step 5- Output layer\n",
    "\n",
    "cnn.add(tf.keras.layers.Dense(units=1, activation='sigmoid'))\n"
   ]
  },
  {
   "cell_type": "code",
   "execution_count": 13,
   "metadata": {},
   "outputs": [],
   "source": [
    "#training CNN\n",
    "\n",
    "#compiling CNN\n",
    "\n",
    "cnn.compile(optimizer= 'adam', loss= 'binary_crossentropy', metrics= ['accuracy'])"
   ]
  },
  {
   "cell_type": "code",
   "execution_count": 14,
   "metadata": {},
   "outputs": [
    {
     "name": "stdout",
     "output_type": "stream",
     "text": [
      "Epoch 1/25\n",
      "250/250 [==============================] - 62s 237ms/step - loss: 0.6818 - accuracy: 0.5661 - val_loss: 0.6321 - val_accuracy: 0.6520\n",
      "Epoch 2/25\n",
      "250/250 [==============================] - 62s 247ms/step - loss: 0.6108 - accuracy: 0.6643 - val_loss: 0.5524 - val_accuracy: 0.7300\n",
      "Epoch 3/25\n",
      "250/250 [==============================] - 61s 245ms/step - loss: 0.5599 - accuracy: 0.7149 - val_loss: 0.5248 - val_accuracy: 0.7410\n",
      "Epoch 4/25\n",
      "250/250 [==============================] - 62s 249ms/step - loss: 0.5266 - accuracy: 0.7339 - val_loss: 0.5289 - val_accuracy: 0.7320\n",
      "Epoch 5/25\n",
      "250/250 [==============================] - 71s 283ms/step - loss: 0.4924 - accuracy: 0.7584 - val_loss: 0.4904 - val_accuracy: 0.7775\n",
      "Epoch 6/25\n",
      "250/250 [==============================] - 63s 254ms/step - loss: 0.4786 - accuracy: 0.7686 - val_loss: 0.5166 - val_accuracy: 0.7555\n",
      "Epoch 7/25\n",
      "250/250 [==============================] - 62s 248ms/step - loss: 0.4560 - accuracy: 0.7847 - val_loss: 0.5010 - val_accuracy: 0.7710\n",
      "Epoch 8/25\n",
      "250/250 [==============================] - 62s 248ms/step - loss: 0.4434 - accuracy: 0.7914 - val_loss: 0.5031 - val_accuracy: 0.7670\n",
      "Epoch 9/25\n",
      "250/250 [==============================] - 62s 249ms/step - loss: 0.4341 - accuracy: 0.7986 - val_loss: 0.4838 - val_accuracy: 0.7880\n",
      "Epoch 10/25\n",
      "250/250 [==============================] - 63s 252ms/step - loss: 0.4134 - accuracy: 0.8094 - val_loss: 0.5612 - val_accuracy: 0.7275\n",
      "Epoch 11/25\n",
      "250/250 [==============================] - 64s 254ms/step - loss: 0.3970 - accuracy: 0.8124 - val_loss: 0.4943 - val_accuracy: 0.7755\n",
      "Epoch 12/25\n",
      "250/250 [==============================] - 62s 250ms/step - loss: 0.3820 - accuracy: 0.8275 - val_loss: 0.4677 - val_accuracy: 0.7855\n",
      "Epoch 13/25\n",
      "250/250 [==============================] - 62s 249ms/step - loss: 0.3624 - accuracy: 0.8341 - val_loss: 0.4802 - val_accuracy: 0.7900\n",
      "Epoch 14/25\n",
      "250/250 [==============================] - 63s 251ms/step - loss: 0.3474 - accuracy: 0.8446 - val_loss: 0.4708 - val_accuracy: 0.8060\n",
      "Epoch 15/25\n",
      "250/250 [==============================] - 62s 249ms/step - loss: 0.3426 - accuracy: 0.8455 - val_loss: 0.4491 - val_accuracy: 0.7990\n",
      "Epoch 16/25\n",
      "250/250 [==============================] - 62s 248ms/step - loss: 0.3233 - accuracy: 0.8572 - val_loss: 0.4963 - val_accuracy: 0.7830\n",
      "Epoch 17/25\n",
      "250/250 [==============================] - 62s 248ms/step - loss: 0.3130 - accuracy: 0.8639 - val_loss: 0.4779 - val_accuracy: 0.8030\n",
      "Epoch 18/25\n",
      "250/250 [==============================] - 65s 258ms/step - loss: 0.2905 - accuracy: 0.8764 - val_loss: 0.4521 - val_accuracy: 0.8015\n",
      "Epoch 19/25\n",
      "250/250 [==============================] - 72s 289ms/step - loss: 0.2726 - accuracy: 0.8848 - val_loss: 0.4767 - val_accuracy: 0.8080\n",
      "Epoch 20/25\n",
      "250/250 [==============================] - 62s 249ms/step - loss: 0.2619 - accuracy: 0.8852 - val_loss: 0.5098 - val_accuracy: 0.8045\n",
      "Epoch 21/25\n",
      "250/250 [==============================] - 61s 244ms/step - loss: 0.2495 - accuracy: 0.8964 - val_loss: 0.5647 - val_accuracy: 0.7885\n",
      "Epoch 22/25\n",
      "250/250 [==============================] - 62s 248ms/step - loss: 0.2374 - accuracy: 0.8986 - val_loss: 0.5565 - val_accuracy: 0.7895\n",
      "Epoch 23/25\n",
      "250/250 [==============================] - 62s 249ms/step - loss: 0.2277 - accuracy: 0.9044 - val_loss: 0.5253 - val_accuracy: 0.8120\n",
      "Epoch 24/25\n",
      "250/250 [==============================] - 62s 249ms/step - loss: 0.2092 - accuracy: 0.9165 - val_loss: 0.6132 - val_accuracy: 0.7880\n",
      "Epoch 25/25\n",
      "250/250 [==============================] - 62s 250ms/step - loss: 0.2035 - accuracy: 0.9156 - val_loss: 0.5346 - val_accuracy: 0.8050\n"
     ]
    },
    {
     "data": {
      "text/plain": [
       "<keras.callbacks.History at 0x2c42f30f040>"
      ]
     },
     "execution_count": 14,
     "metadata": {},
     "output_type": "execute_result"
    }
   ],
   "source": [
    "#training CNN on training set and evaluating it on the test set\n",
    "\n",
    "cnn.fit(x= training_set, validation_data= test_set, epochs= 25)\n",
    "\n"
   ]
  },
  {
   "cell_type": "code",
   "execution_count": null,
   "metadata": {},
   "outputs": [],
   "source": [
    "#Making a single prediction\n",
    "\n"
   ]
  }
 ],
 "metadata": {
  "kernelspec": {
   "display_name": "Python 3",
   "language": "python",
   "name": "python3"
  },
  "language_info": {
   "codemirror_mode": {
    "name": "ipython",
    "version": 3
   },
   "file_extension": ".py",
   "mimetype": "text/x-python",
   "name": "python",
   "nbconvert_exporter": "python",
   "pygments_lexer": "ipython3",
   "version": "3.8.3"
  }
 },
 "nbformat": 4,
 "nbformat_minor": 4
}
